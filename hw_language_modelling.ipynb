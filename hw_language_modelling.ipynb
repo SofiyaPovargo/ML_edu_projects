{
  "cells": [
    {
      "cell_type": "markdown",
      "metadata": {
        "id": "d0ADTojbpfLt"
      },
      "source": [
        "<p style=\"align: center;\"><img src=\"https://static.tildacdn.com/tild6636-3531-4239-b465-376364646465/Deep_Learning_School.png\" width=\"400\"></p>\n",
        "\n",
        "# Домашнее задание. Обучение языковой модели с помощью LSTM (10 баллов)"
      ]
    },
    {
      "cell_type": "markdown",
      "metadata": {
        "id": "ldHSmYY6p_mZ"
      },
      "source": [
        "Э\n",
        "В этом задании Вам предстоит обучить языковую модель с помощью рекуррентной нейронной сети. В отличие от семинарского занятия, Вам необходимо будет работать с отдельными словами, а не буквами.\n",
        "\n",
        "\n",
        "Установим модуль ```datasets```, чтобы нам проще было работать с данными."
      ]
    },
    {
      "cell_type": "code",
      "execution_count": 1,
      "metadata": {
        "id": "3yvNdv6cp_0P"
      },
      "outputs": [
        {
          "name": "stdout",
          "output_type": "stream",
          "text": [
            "������� ������� ��������: 1251\n",
            "Requirement already satisfied: datasets in c:\\users\\asus\\anaconda3\\envs\\mykerenv\\lib\\site-packages (3.3.2)\n",
            "Requirement already satisfied: filelock in c:\\users\\asus\\anaconda3\\envs\\mykerenv\\lib\\site-packages (from datasets) (3.13.1)\n",
            "Requirement already satisfied: numpy>=1.17 in c:\\users\\asus\\anaconda3\\envs\\mykerenv\\lib\\site-packages (from datasets) (1.26.4)\n",
            "Requirement already satisfied: pyarrow>=15.0.0 in c:\\users\\asus\\anaconda3\\envs\\mykerenv\\lib\\site-packages (from datasets) (19.0.0)\n",
            "Requirement already satisfied: dill<0.3.9,>=0.3.0 in c:\\users\\asus\\anaconda3\\envs\\mykerenv\\lib\\site-packages (from datasets) (0.3.8)\n",
            "Requirement already satisfied: pandas in c:\\users\\asus\\anaconda3\\envs\\mykerenv\\lib\\site-packages (from datasets) (2.2.3)\n",
            "Requirement already satisfied: requests>=2.32.2 in c:\\users\\asus\\anaconda3\\envs\\mykerenv\\lib\\site-packages (from datasets) (2.32.3)\n",
            "Requirement already satisfied: tqdm>=4.66.3 in c:\\users\\asus\\anaconda3\\envs\\mykerenv\\lib\\site-packages (from datasets) (4.67.1)\n",
            "Requirement already satisfied: xxhash in c:\\users\\asus\\anaconda3\\envs\\mykerenv\\lib\\site-packages (from datasets) (3.5.0)\n",
            "Requirement already satisfied: multiprocess<0.70.17 in c:\\users\\asus\\anaconda3\\envs\\mykerenv\\lib\\site-packages (from datasets) (0.70.15)\n",
            "Requirement already satisfied: fsspec<=2024.12.0,>=2023.1.0 in c:\\users\\asus\\anaconda3\\envs\\mykerenv\\lib\\site-packages (from fsspec[http]<=2024.12.0,>=2023.1.0->datasets) (2024.12.0)\n",
            "Requirement already satisfied: aiohttp in c:\\users\\asus\\anaconda3\\envs\\mykerenv\\lib\\site-packages (from datasets) (3.11.10)\n",
            "Requirement already satisfied: huggingface-hub>=0.24.0 in c:\\users\\asus\\anaconda3\\envs\\mykerenv\\lib\\site-packages (from datasets) (0.29.2)\n",
            "Requirement already satisfied: packaging in c:\\users\\asus\\anaconda3\\envs\\mykerenv\\lib\\site-packages (from datasets) (24.2)\n",
            "Requirement already satisfied: pyyaml>=5.1 in c:\\users\\asus\\anaconda3\\envs\\mykerenv\\lib\\site-packages (from datasets) (6.0.2)\n",
            "Requirement already satisfied: aiohappyeyeballs>=2.3.0 in c:\\users\\asus\\anaconda3\\envs\\mykerenv\\lib\\site-packages (from aiohttp->datasets) (2.4.4)\n",
            "Requirement already satisfied: aiosignal>=1.1.2 in c:\\users\\asus\\anaconda3\\envs\\mykerenv\\lib\\site-packages (from aiohttp->datasets) (1.2.0)\n",
            "Requirement already satisfied: attrs>=17.3.0 in c:\\users\\asus\\anaconda3\\envs\\mykerenv\\lib\\site-packages (from aiohttp->datasets) (24.3.0)\n",
            "Requirement already satisfied: frozenlist>=1.1.1 in c:\\users\\asus\\anaconda3\\envs\\mykerenv\\lib\\site-packages (from aiohttp->datasets) (1.5.0)\n",
            "Requirement already satisfied: multidict<7.0,>=4.5 in c:\\users\\asus\\anaconda3\\envs\\mykerenv\\lib\\site-packages (from aiohttp->datasets) (6.1.0)\n",
            "Requirement already satisfied: propcache>=0.2.0 in c:\\users\\asus\\anaconda3\\envs\\mykerenv\\lib\\site-packages (from aiohttp->datasets) (0.3.1)\n",
            "Requirement already satisfied: yarl<2.0,>=1.17.0 in c:\\users\\asus\\anaconda3\\envs\\mykerenv\\lib\\site-packages (from aiohttp->datasets) (1.18.0)\n",
            "Requirement already satisfied: async-timeout<6.0,>=4.0 in c:\\users\\asus\\anaconda3\\envs\\mykerenv\\lib\\site-packages (from aiohttp->datasets) (5.0.1)\n",
            "Requirement already satisfied: typing-extensions>=3.7.4.3 in c:\\users\\asus\\anaconda3\\envs\\mykerenv\\lib\\site-packages (from huggingface-hub>=0.24.0->datasets) (4.12.2)\n",
            "Requirement already satisfied: charset-normalizer<4,>=2 in c:\\users\\asus\\anaconda3\\envs\\mykerenv\\lib\\site-packages (from requests>=2.32.2->datasets) (3.3.2)\n",
            "Requirement already satisfied: idna<4,>=2.5 in c:\\users\\asus\\anaconda3\\envs\\mykerenv\\lib\\site-packages (from requests>=2.32.2->datasets) (3.10)\n",
            "Requirement already satisfied: urllib3<3,>=1.21.1 in c:\\users\\asus\\anaconda3\\envs\\mykerenv\\lib\\site-packages (from requests>=2.32.2->datasets) (2.3.0)\n",
            "Requirement already satisfied: certifi>=2017.4.17 in c:\\users\\asus\\anaconda3\\envs\\mykerenv\\lib\\site-packages (from requests>=2.32.2->datasets) (2025.1.31)\n",
            "Requirement already satisfied: colorama in c:\\users\\asus\\anaconda3\\envs\\mykerenv\\lib\\site-packages (from tqdm>=4.66.3->datasets) (0.4.6)\n",
            "Requirement already satisfied: python-dateutil>=2.8.2 in c:\\users\\asus\\anaconda3\\envs\\mykerenv\\lib\\site-packages (from pandas->datasets) (2.9.0.post0)\n",
            "Requirement already satisfied: pytz>=2020.1 in c:\\users\\asus\\anaconda3\\envs\\mykerenv\\lib\\site-packages (from pandas->datasets) (2024.1)\n",
            "Requirement already satisfied: tzdata>=2022.7 in c:\\users\\asus\\anaconda3\\envs\\mykerenv\\lib\\site-packages (from pandas->datasets) (2023.3)\n",
            "Requirement already satisfied: six>=1.5 in c:\\users\\asus\\anaconda3\\envs\\mykerenv\\lib\\site-packages (from python-dateutil>=2.8.2->pandas->datasets) (1.17.0)\n"
          ]
        }
      ],
      "source": [
        "!pip install datasets"
      ]
    },
    {
      "cell_type": "markdown",
      "metadata": {
        "id": "rh9ZXSeCpng9"
      },
      "source": [
        "Импорт необходимых библиотек"
      ]
    },
    {
      "cell_type": "code",
      "execution_count": 2,
      "metadata": {
        "id": "XOJi16bLpd_O"
      },
      "outputs": [],
      "source": [
        "import torch\n",
        "import torch.nn as nn\n",
        "from torch.utils.data import Dataset, DataLoader\n",
        "\n",
        "import numpy as np\n",
        "import matplotlib.pyplot as plt\n",
        "\n",
        "from tqdm.auto import tqdm\n",
        "from datasets import load_dataset\n",
        "from nltk.tokenize import sent_tokenize, word_tokenize\n",
        "from sklearn.model_selection import train_test_split\n",
        "import nltk\n",
        "\n",
        "from collections import Counter\n",
        "from typing import List\n",
        "\n",
        "import seaborn\n",
        "seaborn.set(palette='summer')"
      ]
    },
    {
      "cell_type": "code",
      "execution_count": 3,
      "metadata": {
        "id": "91JuM0SQvXud"
      },
      "outputs": [
        {
          "name": "stderr",
          "output_type": "stream",
          "text": [
            "[nltk_data] Downloading package punkt to\n",
            "[nltk_data]     C:\\Users\\Asus\\AppData\\Roaming\\nltk_data...\n",
            "[nltk_data]   Package punkt is already up-to-date!\n"
          ]
        },
        {
          "data": {
            "text/plain": [
              "True"
            ]
          },
          "execution_count": 3,
          "metadata": {},
          "output_type": "execute_result"
        }
      ],
      "source": [
        "nltk.download('punkt')"
      ]
    },
    {
      "cell_type": "code",
      "execution_count": 4,
      "metadata": {
        "id": "adJC8ShFq9HM"
      },
      "outputs": [
        {
          "data": {
            "text/plain": [
              "'cuda'"
            ]
          },
          "execution_count": 4,
          "metadata": {},
          "output_type": "execute_result"
        }
      ],
      "source": [
        "device = 'cuda' if torch.cuda.is_available() else 'cpu'\n",
        "device"
      ]
    },
    {
      "cell_type": "markdown",
      "metadata": {
        "id": "pwsfS1ENq5ig"
      },
      "source": [
        "## Подготовка данных\n",
        "\n",
        "Воспользуемся датасетом imdb. В нем хранятся отзывы о фильмах с сайта imdb. Загрузим данные с помощью функции ```load_dataset```"
      ]
    },
    {
      "cell_type": "code",
      "execution_count": 5,
      "metadata": {
        "id": "qHLNWOfJqSfc"
      },
      "outputs": [],
      "source": [
        "# Загрузим датасет\n",
        "dataset = load_dataset('imdb')"
      ]
    },
    {
      "cell_type": "code",
      "execution_count": 6,
      "metadata": {},
      "outputs": [
        {
          "data": {
            "text/plain": [
              "DatasetDict({\n",
              "    train: Dataset({\n",
              "        features: ['text', 'label'],\n",
              "        num_rows: 25000\n",
              "    })\n",
              "    test: Dataset({\n",
              "        features: ['text', 'label'],\n",
              "        num_rows: 25000\n",
              "    })\n",
              "    unsupervised: Dataset({\n",
              "        features: ['text', 'label'],\n",
              "        num_rows: 50000\n",
              "    })\n",
              "})"
            ]
          },
          "execution_count": 6,
          "metadata": {},
          "output_type": "execute_result"
        }
      ],
      "source": [
        "dataset"
      ]
    },
    {
      "cell_type": "markdown",
      "metadata": {
        "id": "24gn7CuZ9agP"
      },
      "source": [
        "### Препроцессинг данных и создание словаря (1 балл)\n",
        "\n",
        "Далее вам необходмо самостоятельно произвести препроцессинг данных и получить словарь или же просто ```set``` строк. Что необходимо сделать:\n",
        "\n",
        "1. Разделить отдельные тренировочные примеры на отдельные предложения с помощью функции ```sent_tokenize``` из бибилиотеки ```nltk```. Каждое отдельное предложение будет одним тренировочным примером.\n",
        "2. Оставить только те предложения, в которых меньше ```word_threshold``` слов.\n",
        "3. Посчитать частоту вхождения каждого слова в оставшихся предложениях. Для деления предлоения на отдельные слова удобно использовать функцию ```word_tokenize```.\n",
        "4. Создать объект ```vocab``` класса ```set```, положить в него служебные токены '\\<unk\\>', '\\<bos\\>', '\\<eos\\>', '\\<pad\\>' и vocab_size самых частовстречающихся слов.   "
      ]
    },
    {
      "cell_type": "code",
      "execution_count": 7,
      "metadata": {
        "id": "Ins2tVCdsS47"
      },
      "outputs": [
        {
          "data": {
            "application/vnd.jupyter.widget-view+json": {
              "model_id": "5786a534c05c4afea6d7e1d6235b6ae7",
              "version_major": 2,
              "version_minor": 0
            },
            "text/plain": [
              "  0%|          | 0/25000 [00:00<?, ?it/s]"
            ]
          },
          "metadata": {},
          "output_type": "display_data"
        }
      ],
      "source": [
        "sentences = []\n",
        "word_threshold = 32\n",
        "\n",
        "# Получить отдельные предложения и поместить их в sentences\n",
        "for sentence in tqdm(dataset['train']['text']):\n",
        "    sentences.extend(\n",
        "        [x.lower() for x in sent_tokenize(sentence, language='russian') if len(word_tokenize(x)) <= word_threshold]\n",
        "    )"
      ]
    },
    {
      "cell_type": "code",
      "execution_count": 8,
      "metadata": {
        "id": "bxeBxP3J1Rj3"
      },
      "outputs": [
        {
          "name": "stdout",
          "output_type": "stream",
          "text": [
            "Всего предложений: 204698\n"
          ]
        }
      ],
      "source": [
        "print(\"Всего предложений:\", len(sentences))"
      ]
    },
    {
      "cell_type": "markdown",
      "metadata": {
        "id": "iT82XkT6ULA_"
      },
      "source": [
        "Посчитаем для каждого слова его встречаемость."
      ]
    },
    {
      "cell_type": "code",
      "execution_count": 9,
      "metadata": {
        "id": "nEvCN0Y1w1yH"
      },
      "outputs": [
        {
          "data": {
            "application/vnd.jupyter.widget-view+json": {
              "model_id": "cd6043d6062f4b41832efe4740e95173",
              "version_major": 2,
              "version_minor": 0
            },
            "text/plain": [
              "  0%|          | 0/204698 [00:00<?, ?it/s]"
            ]
          },
          "metadata": {},
          "output_type": "display_data"
        }
      ],
      "source": [
        "words = Counter()\n",
        "\n",
        "for sentence in tqdm(sentences):\n",
        "    words.update(word_tokenize(sentence))  # Используем word_tokenize для разбиения на слова"
      ]
    },
    {
      "cell_type": "markdown",
      "metadata": {
        "id": "B4k4uSoHUSI0"
      },
      "source": [
        "Добавим в словарь ```vocab_size``` самых встречающихся слов."
      ]
    },
    {
      "cell_type": "code",
      "execution_count": 10,
      "metadata": {
        "id": "oUBNwsK9xLIu"
      },
      "outputs": [],
      "source": [
        "vocab = set(['<unk>', '<bos>', '<eos>', '<pad>'])\n",
        "vocab_size = 40000\n",
        "\n",
        "# Добавляем vocab_size самых частых слов (исключая уже добавленные служебные токены)\n",
        "most_common_words = [word for word, count in words.most_common(vocab_size)]\n",
        "vocab.update(most_common_words)"
      ]
    },
    {
      "cell_type": "code",
      "execution_count": 11,
      "metadata": {},
      "outputs": [
        {
          "data": {
            "text/plain": [
              "40004"
            ]
          },
          "execution_count": 11,
          "metadata": {},
          "output_type": "execute_result"
        }
      ],
      "source": [
        "len(vocab)"
      ]
    },
    {
      "cell_type": "code",
      "execution_count": 12,
      "metadata": {
        "id": "ieT0DFUpXnV2"
      },
      "outputs": [],
      "source": [
        "assert '<unk>' in vocab\n",
        "assert '<bos>' in vocab\n",
        "assert '<eos>' in vocab\n",
        "assert '<pad>' in vocab\n",
        "assert len(vocab) == vocab_size + 4"
      ]
    },
    {
      "cell_type": "code",
      "execution_count": 13,
      "metadata": {
        "id": "JhACW2CQyck5"
      },
      "outputs": [
        {
          "name": "stdout",
          "output_type": "stream",
          "text": [
            "Всего слов в словаре: 40004\n"
          ]
        }
      ],
      "source": [
        "print(\"Всего слов в словаре:\", len(vocab))"
      ]
    },
    {
      "cell_type": "markdown",
      "metadata": {
        "id": "UmeRYKSIUcdE"
      },
      "source": [
        "### Подготовка датасета (1 балл)\n",
        "\n",
        "Далее, как и в семинарском занятии, подготовим датасеты и даталоадеры.\n",
        "\n",
        "В классе ```WordDataset``` вам необходимо реализовать метод ```__getitem__```, который будет возвращать сэмпл данных по входному idx, то есть список целых чисел (индексов слов).\n",
        "\n",
        "Внутри этого метода необходимо добавить служебные токены начала и конца последовательности, а также токенизировать соответствующее предложение с помощью ```word_tokenize``` и сопоставить ему индексы из ```word2ind```."
      ]
    },
    {
      "cell_type": "code",
      "execution_count": 14,
      "metadata": {
        "id": "iD7SmSy3v2dl"
      },
      "outputs": [],
      "source": [
        "word2ind = {char: i for i, char in enumerate(vocab)}\n",
        "ind2word = {i: char for char, i in word2ind.items()}"
      ]
    },
    {
      "cell_type": "code",
      "execution_count": 15,
      "metadata": {
        "id": "FVzXL17PzC7K"
      },
      "outputs": [],
      "source": [
        "class WordDataset:\n",
        "    def __init__(self, sentences):\n",
        "        self.data = sentences\n",
        "        self.unk_id = word2ind['<unk>']\n",
        "        self.bos_id = word2ind['<bos>']\n",
        "        self.eos_id = word2ind['<eos>']\n",
        "        self.pad_id = word2ind['<pad>']\n",
        "\n",
        "    def __getitem__(self, idx: int) -> List[int]:\n",
        "        sentence = self.data[idx]\n",
        "        tokens = word_tokenize(sentence.lower())\n",
        "        tokenized_sentence = [self.bos_id]\n",
        "        # Допишите код здесь\n",
        "        for token in tokens:\n",
        "            tokenized_sentence.append(word2ind.get(token, self.unk_id))\n",
        "        tokenized_sentence.append(self.eos_id)\n",
        "\n",
        "        return tokenized_sentence\n",
        "\n",
        "    def __len__(self) -> int:\n",
        "        return len(self.data)"
      ]
    },
    {
      "cell_type": "code",
      "execution_count": 16,
      "metadata": {
        "id": "I6CtYNMp2_g0"
      },
      "outputs": [],
      "source": [
        "def collate_fn_with_padding(\n",
        "    input_batch: List[List[int]], pad_id=word2ind['<pad>']) -> torch.Tensor:\n",
        "    seq_lens = [len(x) for x in input_batch]\n",
        "    max_seq_len = max(seq_lens)\n",
        "\n",
        "    new_batch = []\n",
        "    for sequence in input_batch:\n",
        "        for _ in range(max_seq_len - len(sequence)):\n",
        "            sequence.append(pad_id)\n",
        "        new_batch.append(sequence)\n",
        "\n",
        "    sequences = torch.LongTensor(new_batch).to(device)\n",
        "\n",
        "    new_batch = {\n",
        "        'input_ids': sequences[:,:-1],\n",
        "        'target_ids': sequences[:,1:]\n",
        "    }\n",
        "\n",
        "    return new_batch"
      ]
    },
    {
      "cell_type": "code",
      "execution_count": 17,
      "metadata": {
        "id": "6xmeK9Ys1BIG"
      },
      "outputs": [],
      "source": [
        "train_sentences, eval_sentences = train_test_split(sentences, test_size=0.2)\n",
        "eval_sentences, test_sentences = train_test_split(sentences, test_size=0.5)\n",
        "\n",
        "train_dataset = WordDataset(train_sentences)\n",
        "eval_dataset = WordDataset(eval_sentences)\n",
        "test_dataset = WordDataset(test_sentences)\n",
        "\n",
        "batch_size = 128\n",
        "\n",
        "train_dataloader = DataLoader(\n",
        "    train_dataset, collate_fn=collate_fn_with_padding, batch_size=batch_size)\n",
        "\n",
        "eval_dataloader = DataLoader(\n",
        "    eval_dataset, collate_fn=collate_fn_with_padding, batch_size=batch_size)\n",
        "\n",
        "test_dataloader = DataLoader(\n",
        "    test_dataset, collate_fn=collate_fn_with_padding, batch_size=batch_size)"
      ]
    },
    {
      "cell_type": "code",
      "execution_count": 18,
      "metadata": {},
      "outputs": [
        {
          "data": {
            "text/plain": [
              "1280"
            ]
          },
          "execution_count": 18,
          "metadata": {},
          "output_type": "execute_result"
        }
      ],
      "source": [
        "len(train_dataloader)"
      ]
    },
    {
      "cell_type": "markdown",
      "metadata": {
        "id": "SMAexY7Y45E4"
      },
      "source": [
        "## Обучение и архитектура модели\n",
        "\n",
        "Вам необходимо на практике проверить, что влияет на качество языковых моделей. В этом задании нужно провести серию экспериментов с различными вариантами языковых моделей и сравнить различия в конечной перплексии на тестовом множестве.\n",
        "\n",
        "Возмоэные идеи для экспериментов:\n",
        "\n",
        "* Различные RNN-блоки, например, LSTM или GRU. Также можно добавить сразу несколько RNN блоков друг над другом с помощью аргумента num_layers. Вам поможет официальная документация [здесь](https://pytorch.org/docs/stable/generated/torch.nn.LSTM.html)\n",
        "* Различные размеры скрытого состояния. Различное количество линейных слоев после RNN-блока. Различные функции активации.\n",
        "* Добавление нормализаций в виде Dropout, BatchNorm или LayerNorm\n",
        "* Различные аргументы для оптимизации, например, подбор оптимального learning rate или тип алгоритма оптимизации SGD, Adam, RMSProp и другие\n",
        "* Любые другие идеи и подходы\n",
        "\n",
        "После проведения экспериментов необходимо составить таблицу результатов, в которой описан каждый эксперимент и посчитана перплексия на тестовом множестве.\n",
        "\n",
        "Учтите, что эксперименты, которые различаются, например, только размером скрытого состояния или количеством линейных слоев считаются, как один эксперимент.\n",
        "\n",
        "Успехов!"
      ]
    },
    {
      "cell_type": "markdown",
      "metadata": {
        "id": "KP1cO-3bmDv9"
      },
      "source": [
        "### Функция evaluate (1 балл)\n",
        "\n",
        "Заполните функцию ```evaluate```"
      ]
    },
    {
      "cell_type": "code",
      "execution_count": 19,
      "metadata": {
        "id": "XUlMUVJ3mL4r"
      },
      "outputs": [],
      "source": [
        "def evaluate(model, criterion, dataloader) -> float:\n",
        "    model.eval()\n",
        "    perplexity = []\n",
        "    with torch.no_grad():\n",
        "        for batch in dataloader:\n",
        "            logits = model(batch['input_ids']).flattem(start_dim=0, end_dim=1) # Посчитайте логиты предсказаний следующих слов\n",
        "            loss = criterion(logits, batch['target_ids'].flatten())\n",
        "            perplexity.append(torch.exp(loss).item())\n",
        "\n",
        "    perplexity = sum(perplexity) / len(perplexity)\n",
        "\n",
        "    return perplexity"
      ]
    },
    {
      "cell_type": "markdown",
      "metadata": {
        "id": "bLV63Vsk7loy"
      },
      "source": [
        "### Train loop (1 балл)\n",
        "\n",
        "Напишите функцию для обучения модели."
      ]
    },
    {
      "cell_type": "code",
      "execution_count": 20,
      "metadata": {},
      "outputs": [],
      "source": [
        "def train_model(model, train_loader, eval_loader, criterion, optimizer, device,\n",
        "                epochs=10, patience=3, experiment_name='exp1'):\n",
        "    \"\"\"\n",
        "    Функция обучения модели\n",
        "    \n",
        "    Параметры:\n",
        "        model: Модель для обучения\n",
        "        train_loader: DataLoader для обучающих данных\n",
        "        eval_loader: DataLoader для валидационных данных\n",
        "        criterion: Функция потерь\n",
        "        optimizer: Оптимизатор\n",
        "        device: Устройство (CPU/GPU)\n",
        "        epochs: Максимальное количество эпох\n",
        "        patience: Количество эпох для ранней остановки\n",
        "        experiment_name: Название эксперимента\n",
        "        \n",
        "    Возвращает:\n",
        "        Словарь с историей обучения\n",
        "    \"\"\"\n",
        "    history = {\n",
        "        'train_loss': [], 'eval_loss': [],\n",
        "        'train_ppl': [], 'eval_ppl': []\n",
        "    }\n",
        "    best_eval_loss = float('inf')\n",
        "    patience_counter = 0\n",
        "\n",
        "    for epoch in range(epochs):\n",
        "        # Фаза обучения\n",
        "        model.train()\n",
        "        epoch_train_loss = 0\n",
        "        #train_batches = 0--\n",
        "\n",
        "        train_progress = tqdm(train_loader, desc=f'Epoch {epoch+1}/{epochs} [Train]')\n",
        "        \n",
        "        for batch in train_progress:\n",
        "            if batch['input_ids'].size(1) == 0:\n",
        "                continue\n",
        "            optimizer.zero_grad()\n",
        "            \n",
        "            inputs = batch['input_ids'].to(device)\n",
        "            targets = batch['target_ids'].to(device)\n",
        "            \n",
        "            logits = model(inputs)\n",
        "            loss = criterion(logits.view(-1, logits.size(-1)), \n",
        "                          targets.view(-1))\n",
        "            \n",
        "            loss.backward()\n",
        "            optimizer.step()\n",
        "            \n",
        "            epoch_train_loss += loss.item()\n",
        "            train_progress.set_postfix({'loss': loss.item()})\n",
        "        \n",
        "        # Фаза валидации\n",
        "        model.eval()\n",
        "        eval_loss = 0\n",
        "        with torch.no_grad():\n",
        "            for batch in eval_loader:\n",
        "                inputs = batch['input_ids'].to(device)\n",
        "                targets = batch['target_ids'].to(device)\n",
        "                \n",
        "                logits = model(inputs)\n",
        "                loss = criterion(logits.view(-1, logits.size(-1)), \n",
        "                              targets.view(-1))\n",
        "                eval_loss += loss.item()\n",
        "        \n",
        "        # Вычисление метрик\n",
        "        avg_train_loss = epoch_train_loss / len(train_loader)\n",
        "        avg_eval_loss = eval_loss / len(eval_loader)\n",
        "        train_ppl = torch.exp(torch.tensor(avg_train_loss)).item()\n",
        "        eval_ppl = torch.exp(torch.tensor(avg_eval_loss)).item()\n",
        "        \n",
        "        # Сохранение истории\n",
        "        history['train_loss'].append(avg_train_loss)\n",
        "        history['eval_loss'].append(avg_eval_loss)\n",
        "        history['train_ppl'].append(train_ppl)\n",
        "        history['eval_ppl'].append(eval_ppl)\n",
        "        \n",
        "        print(f\"{experiment_name} | Epoch {epoch+1}: \"\n",
        "              f\"Train Loss: {avg_train_loss:.3f} (PPL: {train_ppl:.1f}) | \"\n",
        "              f\"Eval Loss: {avg_eval_loss:.3f} (PPL: {eval_ppl:.1f})\")\n",
        "        \n",
        "        # Ранняя остановка\n",
        "        if avg_eval_loss < best_eval_loss:\n",
        "            best_eval_loss = avg_eval_loss\n",
        "            patience_counter = 0\n",
        "            torch.save(model.state_dict(), f\"best_{experiment_name}.pt\")\n",
        "        else:\n",
        "            patience_counter += 1\n",
        "            if patience_counter >= patience:\n",
        "                print(f\"Early stopping triggered at epoch {epoch+1}\")\n",
        "                break\n",
        "    \n",
        "    return history"
      ]
    },
    {
      "cell_type": "code",
      "execution_count": 21,
      "metadata": {},
      "outputs": [],
      "source": [
        "def train_model(model, train_loader, eval_loader, criterion, optimizer, device,\n",
        "                epochs=10, patience=3, experiment_name='exp1'):\n",
        "    history = {\n",
        "        'train_loss': [], 'eval_loss': [],\n",
        "        'train_ppl': [], 'eval_ppl': []\n",
        "    }\n",
        "    best_eval_loss = float('inf')\n",
        "    patience_counter = 0\n",
        "\n",
        "    for epoch in range(epochs):\n",
        "        model.train()\n",
        "        epoch_train_loss = 0\n",
        "        train_batches = 0\n",
        "        \n",
        "        train_progress = tqdm(train_loader, desc=f'Epoch {epoch+1}/{epochs} [Train]')\n",
        "        \n",
        "        for batch in train_progress:\n",
        "            if batch['input_ids'].size(1) == 0:\n",
        "                continue\n",
        "                \n",
        "            optimizer.zero_grad()\n",
        "            \n",
        "            inputs = batch['input_ids'].to(device)\n",
        "            targets = batch['target_ids'].to(device)\n",
        "            \n",
        "            try:\n",
        "                logits = model(inputs)\n",
        "                # Исправлено: заменяем view на reshape\n",
        "                loss = criterion(logits.reshape(-1, logits.size(-1)), \n",
        "                              targets.reshape(-1))\n",
        "                \n",
        "                loss.backward()\n",
        "                optimizer.step()\n",
        "                \n",
        "                epoch_train_loss += loss.item()\n",
        "                train_batches += 1\n",
        "                train_progress.set_postfix({'loss': loss.item()})\n",
        "            except RuntimeError as e:\n",
        "                print(f\"Skipping batch due to error: {str(e)}\")\n",
        "                continue\n",
        "        \n",
        "        if train_batches == 0:\n",
        "            print(\"No valid batches in this epoch, skipping...\")\n",
        "            continue\n",
        "            \n",
        "        # Валидация\n",
        "        model.eval()\n",
        "        eval_loss = 0\n",
        "        eval_batches = 0\n",
        "        \n",
        "        with torch.no_grad():\n",
        "            for batch in eval_loader:\n",
        "                if batch['input_ids'].size(1) == 0:\n",
        "                    continue\n",
        "                    \n",
        "                inputs = batch['input_ids'].to(device)\n",
        "                targets = batch['target_ids'].to(device)\n",
        "                \n",
        "                try:\n",
        "                    logits = model(inputs)\n",
        "                    # Исправлено: заменяем view на reshape\n",
        "                    loss = criterion(logits.reshape(-1, logits.size(-1)), \n",
        "                                  targets.reshape(-1))\n",
        "                    eval_loss += loss.item()\n",
        "                    eval_batches += 1\n",
        "                except RuntimeError as e:\n",
        "                    print(f\"Skipping eval batch due to error: {str(e)}\")\n",
        "                    continue\n",
        "        \n",
        "        if eval_batches == 0:\n",
        "            print(\"No valid eval batches, skipping evaluation...\")\n",
        "            continue\n",
        "            \n",
        "        # Вычисление метрик\n",
        "        avg_train_loss = epoch_train_loss / train_batches\n",
        "        avg_eval_loss = eval_loss / eval_batches\n",
        "        train_ppl = torch.exp(torch.tensor(avg_train_loss)).item()\n",
        "        eval_ppl = torch.exp(torch.tensor(avg_eval_loss)).item()\n",
        "        \n",
        "        history['train_loss'].append(avg_train_loss)\n",
        "        history['eval_loss'].append(avg_eval_loss)\n",
        "        history['train_ppl'].append(train_ppl)\n",
        "        history['eval_ppl'].append(eval_ppl)\n",
        "        \n",
        "        print(f\"{experiment_name} | Epoch {epoch+1}: \"\n",
        "              f\"Train Loss: {avg_train_loss:.3f} (PPL: {train_ppl:.1f}) | \"\n",
        "              f\"Eval Loss: {avg_eval_loss:.3f} (PPL: {eval_ppl:.1f})\")\n",
        "        \n",
        "        # Ранняя остановка\n",
        "        if avg_eval_loss < best_eval_loss:\n",
        "            best_eval_loss = avg_eval_loss\n",
        "            patience_counter = 0\n",
        "            torch.save(model.state_dict(), f\"best_{experiment_name}.pt\")\n",
        "        else:\n",
        "            patience_counter += 1\n",
        "            if patience_counter >= patience:\n",
        "                print(f\"Early stopping triggered at epoch {epoch+1}\")\n",
        "                break\n",
        "    \n",
        "    return history"
      ]
    },
    {
      "cell_type": "code",
      "execution_count": 22,
      "metadata": {},
      "outputs": [],
      "source": [
        "import torch\n",
        "import torch.nn as nn\n",
        "from torch.utils.data import DataLoader\n",
        "from tqdm import tqdm\n",
        "import matplotlib.pyplot as plt\n",
        "\n",
        "class LanguageModel(nn.Module):\n",
        "    def __init__(self, vocab_size: int, embedding_dim: int = 300, \n",
        "                 hidden_dim: int = 512, num_layers: int = 2,\n",
        "                 dropout: float = 0.3, rnn_type: str = 'lstm'):\n",
        "        super().__init__()\n",
        "        self.embedding = nn.Embedding(\n",
        "            num_embeddings=vocab_size,\n",
        "            embedding_dim=embedding_dim,\n",
        "            padding_idx=0\n",
        "        )\n",
        "        \n",
        "        if rnn_type.lower() == 'lstm':\n",
        "            self.rnn = nn.LSTM(\n",
        "                embedding_dim,\n",
        "                hidden_dim,\n",
        "                num_layers=num_layers,\n",
        "                dropout=dropout if num_layers > 1 else 0,\n",
        "                batch_first=True\n",
        "            )\n",
        "        elif rnn_type.lower() == 'gru':\n",
        "            self.rnn = nn.GRU(\n",
        "                embedding_dim,\n",
        "                hidden_dim,\n",
        "                num_layers=num_layers,\n",
        "                dropout=dropout if num_layers > 1 else 0,\n",
        "                batch_first=True\n",
        "            )\n",
        "        else:\n",
        "            raise ValueError(f\"Unsupported RNN type: {rnn_type}\")\n",
        "\n",
        "        self.linear = nn.Linear(hidden_dim, hidden_dim)\n",
        "        self.projection = nn.Linear(hidden_dim, vocab_size)\n",
        "        self.non_lin = nn.Tanh()\n",
        "        self.dropout = nn.Dropout(dropout)\n",
        "        self.layer_norm = nn.LayerNorm(hidden_dim)\n",
        "        self.init_weights()\n",
        "\n",
        "    def init_weights(self):\n",
        "        init_range = 0.1\n",
        "        self.embedding.weight.data.uniform_(-init_range, init_range)\n",
        "        self.linear.weight.data.uniform_(-init_range, init_range)\n",
        "        self.linear.bias.data.zero_()\n",
        "        self.projection.weight.data.uniform_(-init_range, init_range)\n",
        "        self.projection.bias.data.zero_()\n",
        "\n",
        "    def forward(self, input_batch: torch.Tensor) -> torch.Tensor:\n",
        "        # Проверка на пустые последовательности\n",
        "        if input_batch.size(1) == 0:\n",
        "            return torch.zeros(input_batch.size(0), 0, self.projection.out_features)\n",
        "            \n",
        "        embeddings = self.embedding(input_batch)\n",
        "        embeddings = self.dropout(embeddings)\n",
        "        output, _ = self.rnn(embeddings)\n",
        "        output = self.layer_norm(output)\n",
        "        output = self.non_lin(output)\n",
        "        output = self.linear(output)\n",
        "        output = self.dropout(output)\n",
        "        logits = self.projection(output)\n",
        "        return logits\n",
        "\n"
      ]
    },
    {
      "cell_type": "code",
      "execution_count": 23,
      "metadata": {},
      "outputs": [],
      "source": [
        "def collate_fn_with_padding(batch):\n",
        "    # Фильтрация пустых последовательностей\n",
        "    batch = [x for x in batch if len(x) > 0]\n",
        "    if not batch:\n",
        "        return {'input_ids': torch.zeros(1, 1), 'target_ids': torch.zeros(1, 1)}\n",
        "    \n",
        "    # Находим максимальную длину в батче\n",
        "    max_len = max(len(x) for x in batch)\n",
        "    \n",
        "    # Создаем тензоры с паддингом\n",
        "    input_ids = []\n",
        "    target_ids = []\n",
        "    \n",
        "    for sequence in batch:\n",
        "        # Добавляем <bos> в начало и <eos> в конец\n",
        "        padded_seq = [word2ind['<bos>']] + sequence + [word2ind['<eos>']]\n",
        "        # Паддинг до максимальной длины\n",
        "        padded_seq = padded_seq + [word2ind['<pad>']] * (max_len - len(sequence))\n",
        "        \n",
        "        input_ids.append(padded_seq[:-1])\n",
        "        target_ids.append(padded_seq[1:])\n",
        "    \n",
        "    return {\n",
        "        'input_ids': torch.LongTensor(input_ids),\n",
        "        'target_ids': torch.LongTensor(target_ids)\n",
        "    }"
      ]
    },
    {
      "cell_type": "markdown",
      "metadata": {
        "id": "hXmeyhBQmuq4"
      },
      "source": [
        "### Первый эксперимент (2 балла)\n",
        "\n",
        "Определите архитектуру модели и обучите её."
      ]
    },
    {
      "cell_type": "code",
      "execution_count": 24,
      "metadata": {},
      "outputs": [
        {
          "name": "stderr",
          "output_type": "stream",
          "text": [
            "Epoch 1/15 [Train]: 100%|██████████| 1280/1280 [20:29<00:00,  1.04it/s, loss=4.86]\n"
          ]
        },
        {
          "name": "stdout",
          "output_type": "stream",
          "text": [
            "word_lm_experiment | Epoch 1: Train Loss: 5.182 (PPL: 178.1) | Eval Loss: 4.624 (PPL: 101.9)\n"
          ]
        },
        {
          "name": "stderr",
          "output_type": "stream",
          "text": [
            "Epoch 2/15 [Train]: 100%|██████████| 1280/1280 [20:12<00:00,  1.06it/s, loss=4.51]\n"
          ]
        },
        {
          "name": "stdout",
          "output_type": "stream",
          "text": [
            "word_lm_experiment | Epoch 2: Train Loss: 4.634 (PPL: 102.9) | Eval Loss: 4.330 (PPL: 75.9)\n"
          ]
        },
        {
          "name": "stderr",
          "output_type": "stream",
          "text": [
            "Epoch 3/15 [Train]: 100%|██████████| 1280/1280 [20:45<00:00,  1.03it/s, loss=4.19]\n"
          ]
        },
        {
          "name": "stdout",
          "output_type": "stream",
          "text": [
            "word_lm_experiment | Epoch 3: Train Loss: 4.409 (PPL: 82.2) | Eval Loss: 4.152 (PPL: 63.6)\n"
          ]
        },
        {
          "name": "stderr",
          "output_type": "stream",
          "text": [
            "Epoch 4/15 [Train]: 100%|██████████| 1280/1280 [20:34<00:00,  1.04it/s, loss=4.04]\n"
          ]
        },
        {
          "name": "stdout",
          "output_type": "stream",
          "text": [
            "word_lm_experiment | Epoch 4: Train Loss: 4.253 (PPL: 70.3) | Eval Loss: 4.021 (PPL: 55.8)\n"
          ]
        },
        {
          "name": "stderr",
          "output_type": "stream",
          "text": [
            "Epoch 5/15 [Train]: 100%|██████████| 1280/1280 [20:02<00:00,  1.06it/s, loss=3.77]\n"
          ]
        },
        {
          "name": "stdout",
          "output_type": "stream",
          "text": [
            "word_lm_experiment | Epoch 5: Train Loss: 4.130 (PPL: 62.2) | Eval Loss: 3.924 (PPL: 50.6)\n"
          ]
        },
        {
          "name": "stderr",
          "output_type": "stream",
          "text": [
            "Epoch 6/15 [Train]: 100%|██████████| 1280/1280 [20:03<00:00,  1.06it/s, loss=3.57]\n"
          ]
        },
        {
          "name": "stdout",
          "output_type": "stream",
          "text": [
            "word_lm_experiment | Epoch 6: Train Loss: 4.030 (PPL: 56.2) | Eval Loss: 3.842 (PPL: 46.6)\n"
          ]
        },
        {
          "name": "stderr",
          "output_type": "stream",
          "text": [
            "Epoch 7/15 [Train]: 100%|██████████| 1280/1280 [20:01<00:00,  1.06it/s, loss=3.43]\n"
          ]
        },
        {
          "name": "stdout",
          "output_type": "stream",
          "text": [
            "word_lm_experiment | Epoch 7: Train Loss: 3.943 (PPL: 51.6) | Eval Loss: 3.766 (PPL: 43.2)\n"
          ]
        },
        {
          "name": "stderr",
          "output_type": "stream",
          "text": [
            "Epoch 8/15 [Train]: 100%|██████████| 1280/1280 [20:02<00:00,  1.06it/s, loss=3.33]\n"
          ]
        },
        {
          "name": "stdout",
          "output_type": "stream",
          "text": [
            "word_lm_experiment | Epoch 8: Train Loss: 3.869 (PPL: 47.9) | Eval Loss: 3.705 (PPL: 40.6)\n"
          ]
        },
        {
          "name": "stderr",
          "output_type": "stream",
          "text": [
            "Epoch 9/15 [Train]: 100%|██████████| 1280/1280 [20:01<00:00,  1.06it/s, loss=3.19]\n"
          ]
        },
        {
          "name": "stdout",
          "output_type": "stream",
          "text": [
            "word_lm_experiment | Epoch 9: Train Loss: 3.804 (PPL: 44.9) | Eval Loss: 3.650 (PPL: 38.5)\n"
          ]
        },
        {
          "name": "stderr",
          "output_type": "stream",
          "text": [
            "Epoch 10/15 [Train]: 100%|██████████| 1280/1280 [20:02<00:00,  1.06it/s, loss=3.11]\n"
          ]
        },
        {
          "name": "stdout",
          "output_type": "stream",
          "text": [
            "word_lm_experiment | Epoch 10: Train Loss: 3.748 (PPL: 42.4) | Eval Loss: 3.599 (PPL: 36.6)\n"
          ]
        },
        {
          "name": "stderr",
          "output_type": "stream",
          "text": [
            "Epoch 11/15 [Train]: 100%|██████████| 1280/1280 [20:01<00:00,  1.06it/s, loss=3.05]\n"
          ]
        },
        {
          "name": "stdout",
          "output_type": "stream",
          "text": [
            "word_lm_experiment | Epoch 11: Train Loss: 3.697 (PPL: 40.3) | Eval Loss: 3.554 (PPL: 35.0)\n"
          ]
        },
        {
          "name": "stderr",
          "output_type": "stream",
          "text": [
            "Epoch 12/15 [Train]: 100%|██████████| 1280/1280 [20:02<00:00,  1.06it/s, loss=3.01]\n"
          ]
        },
        {
          "name": "stdout",
          "output_type": "stream",
          "text": [
            "word_lm_experiment | Epoch 12: Train Loss: 3.653 (PPL: 38.6) | Eval Loss: 3.512 (PPL: 33.5)\n"
          ]
        },
        {
          "name": "stderr",
          "output_type": "stream",
          "text": [
            "Epoch 13/15 [Train]: 100%|██████████| 1280/1280 [20:02<00:00,  1.06it/s, loss=2.92]\n"
          ]
        },
        {
          "name": "stdout",
          "output_type": "stream",
          "text": [
            "word_lm_experiment | Epoch 13: Train Loss: 3.613 (PPL: 37.1) | Eval Loss: 3.473 (PPL: 32.2)\n"
          ]
        },
        {
          "name": "stderr",
          "output_type": "stream",
          "text": [
            "Epoch 14/15 [Train]: 100%|██████████| 1280/1280 [20:02<00:00,  1.06it/s, loss=2.87]\n"
          ]
        },
        {
          "name": "stdout",
          "output_type": "stream",
          "text": [
            "word_lm_experiment | Epoch 14: Train Loss: 3.578 (PPL: 35.8) | Eval Loss: 3.443 (PPL: 31.3)\n"
          ]
        },
        {
          "name": "stderr",
          "output_type": "stream",
          "text": [
            "Epoch 15/15 [Train]: 100%|██████████| 1280/1280 [20:02<00:00,  1.06it/s, loss=2.78]\n"
          ]
        },
        {
          "name": "stdout",
          "output_type": "stream",
          "text": [
            "word_lm_experiment | Epoch 15: Train Loss: 3.545 (PPL: 34.6) | Eval Loss: 3.411 (PPL: 30.3)\n"
          ]
        }
      ],
      "source": [
        "if __name__ == \"__main__\":\n",
        "    # Параметры модели\n",
        "    VOCAB_SIZE = len(word2ind)  # Используем реальный размер словаря\n",
        "    EMBEDDING_DIM = 300\n",
        "    HIDDEN_DIM = 512\n",
        "    NUM_LAYERS = 2\n",
        "    DROPOUT = 0.3\n",
        "    \n",
        "    # Инициализация устройства\n",
        "    device = torch.device('cuda' if torch.cuda.is_available() else 'cpu')\n",
        "    \n",
        "    # Создание модели\n",
        "    model = LanguageModel(\n",
        "        vocab_size=VOCAB_SIZE,\n",
        "        embedding_dim=EMBEDDING_DIM,\n",
        "        hidden_dim=HIDDEN_DIM,\n",
        "        num_layers=NUM_LAYERS,\n",
        "        dropout=DROPOUT,\n",
        "        rnn_type='lstm'\n",
        "    ).to(device)\n",
        "    \n",
        "    # Оптимизатор и функция потерь\n",
        "    optimizer = torch.optim.Adam(model.parameters(), lr=0.001)\n",
        "    criterion = nn.CrossEntropyLoss(ignore_index=word2ind['<pad>'])\n",
        "    \n",
        "    # Обучение модели\n",
        "    results = train_model(\n",
        "        model=model,\n",
        "        train_loader=train_dataloader,\n",
        "        eval_loader=eval_dataloader,\n",
        "        criterion=criterion,\n",
        "        optimizer=optimizer,\n",
        "        device=device,\n",
        "        epochs=15,\n",
        "        patience=3,\n",
        "        experiment_name='word_lm_experiment'\n",
        "    )"
      ]
    },
    {
      "cell_type": "markdown",
      "metadata": {
        "id": "X1EW4faIm0tl"
      },
      "source": [
        "### Второй эксперимент (2 балла)\n",
        "\n",
        "Попробуйте что-то поменять в модели или в пайплайне обучения, идеи для экспериментов можно подсмотреть выше."
      ]
    },
    {
      "cell_type": "code",
      "execution_count": 27,
      "metadata": {
        "id": "wkSE4jR1XzTg"
      },
      "outputs": [
        {
          "name": "stderr",
          "output_type": "stream",
          "text": [
            "Epoch 1/15 [Train]: 100%|██████████| 1280/1280 [18:19<00:00,  1.16it/s, loss=5.38]\n"
          ]
        },
        {
          "name": "stdout",
          "output_type": "stream",
          "text": [
            "word_lm_experiment | Epoch 1: Train Loss: 5.904 (PPL: 366.3) | Eval Loss: 5.258 (PPL: 192.0)\n"
          ]
        },
        {
          "name": "stderr",
          "output_type": "stream",
          "text": [
            "Epoch 2/15 [Train]: 100%|██████████| 1280/1280 [18:45<00:00,  1.14it/s, loss=5.11]\n"
          ]
        },
        {
          "name": "stdout",
          "output_type": "stream",
          "text": [
            "word_lm_experiment | Epoch 2: Train Loss: 5.187 (PPL: 179.0) | Eval Loss: 4.964 (PPL: 143.2)\n"
          ]
        },
        {
          "name": "stderr",
          "output_type": "stream",
          "text": [
            "Epoch 3/15 [Train]: 100%|██████████| 1280/1280 [19:00<00:00,  1.12it/s, loss=4.98]\n"
          ]
        },
        {
          "name": "stdout",
          "output_type": "stream",
          "text": [
            "word_lm_experiment | Epoch 3: Train Loss: 5.003 (PPL: 148.8) | Eval Loss: 4.840 (PPL: 126.4)\n"
          ]
        },
        {
          "name": "stderr",
          "output_type": "stream",
          "text": [
            "Epoch 4/15 [Train]: 100%|██████████| 1280/1280 [18:50<00:00,  1.13it/s, loss=4.84]\n"
          ]
        },
        {
          "name": "stdout",
          "output_type": "stream",
          "text": [
            "word_lm_experiment | Epoch 4: Train Loss: 4.885 (PPL: 132.3) | Eval Loss: 4.760 (PPL: 116.7)\n"
          ]
        },
        {
          "name": "stderr",
          "output_type": "stream",
          "text": [
            "Epoch 5/15 [Train]: 100%|██████████| 1280/1280 [18:32<00:00,  1.15it/s, loss=4.72]\n"
          ]
        },
        {
          "name": "stdout",
          "output_type": "stream",
          "text": [
            "word_lm_experiment | Epoch 5: Train Loss: 4.794 (PPL: 120.8) | Eval Loss: 4.646 (PPL: 104.1)\n"
          ]
        },
        {
          "name": "stderr",
          "output_type": "stream",
          "text": [
            "Epoch 6/15 [Train]: 100%|██████████| 1280/1280 [18:20<00:00,  1.16it/s, loss=4.66]\n"
          ]
        },
        {
          "name": "stdout",
          "output_type": "stream",
          "text": [
            "word_lm_experiment | Epoch 6: Train Loss: 4.723 (PPL: 112.5) | Eval Loss: 4.592 (PPL: 98.7)\n"
          ]
        },
        {
          "name": "stderr",
          "output_type": "stream",
          "text": [
            "Epoch 7/15 [Train]: 100%|██████████| 1280/1280 [18:48<00:00,  1.13it/s, loss=4.55]\n"
          ]
        },
        {
          "name": "stdout",
          "output_type": "stream",
          "text": [
            "word_lm_experiment | Epoch 7: Train Loss: 4.667 (PPL: 106.4) | Eval Loss: 4.530 (PPL: 92.7)\n"
          ]
        },
        {
          "name": "stderr",
          "output_type": "stream",
          "text": [
            "Epoch 8/15 [Train]: 100%|██████████| 1280/1280 [19:04<00:00,  1.12it/s, loss=4.57]\n"
          ]
        },
        {
          "name": "stdout",
          "output_type": "stream",
          "text": [
            "word_lm_experiment | Epoch 8: Train Loss: 4.622 (PPL: 101.7) | Eval Loss: 4.490 (PPL: 89.1)\n"
          ]
        },
        {
          "name": "stderr",
          "output_type": "stream",
          "text": [
            "Epoch 9/15 [Train]: 100%|██████████| 1280/1280 [18:57<00:00,  1.13it/s, loss=4.47]\n"
          ]
        },
        {
          "name": "stdout",
          "output_type": "stream",
          "text": [
            "word_lm_experiment | Epoch 9: Train Loss: 4.584 (PPL: 97.9) | Eval Loss: 4.448 (PPL: 85.4)\n"
          ]
        },
        {
          "name": "stderr",
          "output_type": "stream",
          "text": [
            "Epoch 10/15 [Train]: 100%|██████████| 1280/1280 [18:18<00:00,  1.17it/s, loss=4.48]\n"
          ]
        },
        {
          "name": "stdout",
          "output_type": "stream",
          "text": [
            "word_lm_experiment | Epoch 10: Train Loss: 4.552 (PPL: 94.8) | Eval Loss: 4.436 (PPL: 84.4)\n"
          ]
        },
        {
          "name": "stderr",
          "output_type": "stream",
          "text": [
            "Epoch 11/15 [Train]: 100%|██████████| 1280/1280 [18:17<00:00,  1.17it/s, loss=4.38]\n"
          ]
        },
        {
          "name": "stdout",
          "output_type": "stream",
          "text": [
            "word_lm_experiment | Epoch 11: Train Loss: 4.521 (PPL: 91.9) | Eval Loss: 4.387 (PPL: 80.4)\n"
          ]
        },
        {
          "name": "stderr",
          "output_type": "stream",
          "text": [
            "Epoch 12/15 [Train]: 100%|██████████| 1280/1280 [18:18<00:00,  1.17it/s, loss=4.36]\n"
          ]
        },
        {
          "name": "stdout",
          "output_type": "stream",
          "text": [
            "word_lm_experiment | Epoch 12: Train Loss: 4.495 (PPL: 89.6) | Eval Loss: 4.365 (PPL: 78.6)\n"
          ]
        },
        {
          "name": "stderr",
          "output_type": "stream",
          "text": [
            "Epoch 13/15 [Train]: 100%|██████████| 1280/1280 [19:16<00:00,  1.11it/s, loss=4.36]\n"
          ]
        },
        {
          "name": "stdout",
          "output_type": "stream",
          "text": [
            "word_lm_experiment | Epoch 13: Train Loss: 4.472 (PPL: 87.6) | Eval Loss: 4.343 (PPL: 77.0)\n"
          ]
        },
        {
          "name": "stderr",
          "output_type": "stream",
          "text": [
            "Epoch 14/15 [Train]: 100%|██████████| 1280/1280 [19:38<00:00,  1.09it/s, loss=4.34]\n"
          ]
        },
        {
          "name": "stdout",
          "output_type": "stream",
          "text": [
            "word_lm_experiment | Epoch 14: Train Loss: 4.450 (PPL: 85.6) | Eval Loss: 4.317 (PPL: 74.9)\n"
          ]
        },
        {
          "name": "stderr",
          "output_type": "stream",
          "text": [
            "Epoch 15/15 [Train]: 100%|██████████| 1280/1280 [19:14<00:00,  1.11it/s, loss=4.3] \n"
          ]
        },
        {
          "name": "stdout",
          "output_type": "stream",
          "text": [
            "word_lm_experiment | Epoch 15: Train Loss: 4.431 (PPL: 84.0) | Eval Loss: 4.307 (PPL: 74.2)\n"
          ]
        }
      ],
      "source": [
        "if __name__ == \"__main__\":\n",
        "    # Параметры модели\n",
        "    VOCAB_SIZE = len(word2ind)  # Используем реальный размер словаря\n",
        "    EMBEDDING_DIM = 200\n",
        "    HIDDEN_DIM = 256\n",
        "    NUM_LAYERS = 3\n",
        "    DROPOUT = 0.2\n",
        "    \n",
        "    # Инициализация устройства\n",
        "    device = torch.device('cuda' if torch.cuda.is_available() else 'cpu')\n",
        "    \n",
        "    # Создание модели\n",
        "    model = LanguageModel(\n",
        "        vocab_size=VOCAB_SIZE,\n",
        "        embedding_dim=EMBEDDING_DIM,\n",
        "        hidden_dim=HIDDEN_DIM,\n",
        "        num_layers=NUM_LAYERS,\n",
        "        dropout=DROPOUT,\n",
        "        rnn_type='gru'\n",
        "    ).to(device)\n",
        "    \n",
        "    # Оптимизатор и функция потерь\n",
        "    optimizer = torch.optim.RMSprop(model.parameters(), lr=0.001)\n",
        "    criterion = nn.CrossEntropyLoss(ignore_index=word2ind['<pad>'])\n",
        "    \n",
        "    # Обучение модели\n",
        "    results = train_model(\n",
        "        model=model,\n",
        "        train_loader=train_dataloader,\n",
        "        eval_loader=eval_dataloader,\n",
        "        criterion=criterion,\n",
        "        optimizer=optimizer,\n",
        "        device=device,\n",
        "        epochs=15,\n",
        "        patience=3,\n",
        "        experiment_name='word_lm_experiment'\n",
        "    )"
      ]
    },
    {
      "cell_type": "markdown",
      "metadata": {
        "id": "Y5V9H3eoFeAu"
      },
      "source": [
        "### Отчет (2 балла)\n",
        "\n",
        "Опишите проведенные эксперименты. Сравните перплексии полученных моделей. Предложите идеи по улучшению качества моделей."
      ]
    },
    {
      "cell_type": "markdown",
      "metadata": {},
      "source": [
        "первая модель показала себя значительно лучше, но и обучалась немного дольше. для нахождения оптимальног решения необходимо ещё проводить эксперименты."
      ]
    }
  ],
  "metadata": {
    "accelerator": "GPU",
    "colab": {
      "provenance": []
    },
    "gpuClass": "standard",
    "kernelspec": {
      "display_name": "mykerenv",
      "language": "python",
      "name": "python3"
    },
    "language_info": {
      "codemirror_mode": {
        "name": "ipython",
        "version": 3
      },
      "file_extension": ".py",
      "mimetype": "text/x-python",
      "name": "python",
      "nbconvert_exporter": "python",
      "pygments_lexer": "ipython3",
      "version": "3.10.16"
    }
  },
  "nbformat": 4,
  "nbformat_minor": 0
}
