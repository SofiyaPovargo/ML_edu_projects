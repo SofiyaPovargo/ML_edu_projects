{
 "cells": [
  {
   "cell_type": "markdown",
   "metadata": {},
   "source": [
    "# Линейная регрессия"
   ]
  },
  {
   "cell_type": "markdown",
   "metadata": {},
   "source": [
    "## 1. Поиск градиента\n",
    "\n",
    "Продолжить формулу для взятия векторной производной по х для функции квадрата ошибки <br>(в красивом формате со всеми значками угловых скобок, операторов и т. д.). После выполнения этого вы вспомните формулу градиента для квадратичной ошибки и поймете как писать формулы на языке математической верстки TeX\n",
    "\n",
    "$$ f(x) = ||Ax-y||^2 = (Ax-y)^T(Ax-y) $$\n",
    "$$ D_f(x) = <∇f, dx>$$\n",
    "$$ \\nabla f(x) = 2A^T(Ax-y) $$\n"
   ]
  },
  {
   "cell_type": "markdown",
   "metadata": {},
   "source": [
    "## 2. Прямое решение через ноль производной\n",
    "\n",
    "После пункта 1 у вас есть формула для градиента квадратичной функции ошибки. Она измеряет уровень \"неверности\" решения (вектора $\\vec{x}$). Теперь её надо приравнять к 0 и построить формулу, чтобы узнать при каком x это происходит.\n",
    "\n",
    "$$ \\nabla f(x) = 2A^T(Ax-y) = 0$$\n",
    "$$ x = (A^TA)^{-1}A^Ty $$"
   ]
  },
  {
   "cell_type": "markdown",
   "metadata": {},
   "source": [
    "### 2.1 Реализация прямого решения"
   ]
  },
  {
   "cell_type": "code",
   "execution_count": 1,
   "metadata": {},
   "outputs": [],
   "source": [
    "import numpy as np\n",
    "import matplotlib.pyplot as plt"
   ]
  },
  {
   "cell_type": "code",
   "execution_count": 2,
   "metadata": {},
   "outputs": [
    {
     "data": {
      "image/png": "[encoded data removed]",
      "text/plain": [
       "<Figure size 700x700 with 1 Axes>"
      ]
     },
     "metadata": {},
     "output_type": "display_data"
    }
   ],
   "source": [
    "# ваши параметры по вариантам\n",
    "a_orig = ((-1)^12)*0.1*12 # по формуле (-1)^n * 0.1 * n, n - номер в списке группы\n",
    "b_orig = 12*(-1)^(13) # по формуле n*(-1)^(n+1), где n - номер в списке группы\n",
    "random_state = 12 # х, где х - номер в списке группы\n",
    "\n",
    "# это тот самый столбец который мы и должны отыскать будем нашими методами.\n",
    "# сейчас конечно мы его знаем наперед потому что нам надо создать данные\n",
    "# но в жизни мы изначально этих чисел не знаем и в жизни задача в том чтобы их найти\n",
    "x_orig = np.array([a_orig, b_orig])\n",
    "\n",
    "np.random.seed(random_state)\n",
    "\n",
    "A = np.stack([np.arange(0, 25), np.ones(25)]).T\n",
    "\n",
    "# @ - операция матричного умножения в библиотеке NumPy\n",
    "y = A @ x_orig + np.random.standard_normal(25)\n",
    "# добавили нормально распределённого шума в данных\n",
    "# этим система станет несовместна для обычного решения\n",
    "\n",
    "f, ax = plt.subplots(figsize=(7, 7))\n",
    "\n",
    "# A[:, 0] - выбрать первый столбец, A[0, :] - выбрать первую строку\n",
    "plt.scatter(A[:, 0], y)\n",
    "\n",
    "ax.set_xlim(-25, 25)\n",
    "ax.set_ylim(-25, 25)\n",
    "# рисуем координатные оси\n",
    "ax.axvline(0, color=\"black\")\n",
    "ax.axhline(0, color=\"black\")\n",
    "ax.grid(True)"
   ]
  },
  {
   "cell_type": "code",
   "execution_count": 3,
   "metadata": {},
   "outputs": [
    {
     "data": {
      "text/plain": [
       "(array([[ 0.,  1.],\n",
       "        [ 1.,  1.],\n",
       "        [ 2.,  1.],\n",
       "        [ 3.,  1.],\n",
       "        [ 4.,  1.],\n",
       "        [ 5.,  1.],\n",
       "        [ 6.,  1.],\n",
       "        [ 7.,  1.],\n",
       "        [ 8.,  1.],\n",
       "        [ 9.,  1.],\n",
       "        [10.,  1.],\n",
       "        [11.,  1.],\n",
       "        [12.,  1.],\n",
       "        [13.,  1.],\n",
       "        [14.,  1.],\n",
       "        [15.,  1.],\n",
       "        [16.,  1.],\n",
       "        [17.,  1.],\n",
       "        [18.,  1.],\n",
       "        [19.,  1.],\n",
       "        [20.,  1.],\n",
       "        [21.,  1.],\n",
       "        [22.,  1.],\n",
       "        [23.,  1.],\n",
       "        [24.,  1.]]),\n",
       " array([  -6.52701417,  -23.28142588,  -37.9575605 ,  -55.50073563,\n",
       "         -68.64685717,  -86.53472134, -100.59487292, -116.32022767,\n",
       "        -132.60698188, -144.52818061, -163.59782292, -178.12754301,\n",
       "        -193.10404388, -211.0151688 , -224.05764363, -241.12214979,\n",
       "        -255.58748452, -273.11386915, -288.82953021, -302.19020355,\n",
       "        -318.4981277 , -334.46115382, -349.55923889, -365.27266733,\n",
       "        -382.55436024]))"
      ]
     },
     "execution_count": 3,
     "metadata": {},
     "output_type": "execute_result"
    }
   ],
   "source": [
    "A, y"
   ]
  },
  {
   "cell_type": "markdown",
   "metadata": {},
   "source": [
    "### Вопрос - зачем был дописан вектор единиц справа к иксу?\n",
    "\n",
    "ответ - в формуле линейной регрессии присутствует свободный член bias, мы его дописываем к матрице с иксами, чтобы при подборе весов итоговая формулы выглядела $$w_1*x1+w_2*x2+...+bias=y$$"
   ]
  },
  {
   "cell_type": "code",
   "execution_count": 4,
   "metadata": {},
   "outputs": [
    {
     "data": {
      "text/plain": [
       "array([-15.58321402,  -7.14501511])"
      ]
     },
     "execution_count": 4,
     "metadata": {},
     "output_type": "execute_result"
    }
   ],
   "source": [
    "# допишите код для поиска a и b через 0 производной и выведите какой вышел результат\n",
    "a_b_analytical = np.linalg.inv(A.T @ A)@A.T@y\n",
    "a_b_analytical"
   ]
  },
  {
   "cell_type": "code",
   "execution_count": 5,
   "metadata": {},
   "outputs": [
    {
     "data": {
      "text/plain": [
       "[<matplotlib.lines.Line2D at 0x29a98cc62f0>]"
      ]
     },
     "execution_count": 5,
     "metadata": {},
     "output_type": "execute_result"
    },
    {
     "data": {
      "image/png": "[encoded data removed]",
      "text/plain": [
       "<Figure size 700x700 with 1 Axes>"
      ]
     },
     "metadata": {},
     "output_type": "display_data"
    }
   ],
   "source": [
    "# постройте линию которая вышла рядом с изначальными данными\n",
    "\n",
    "\n",
    "# изначальные данные\n",
    "f, ax = plt.subplots(figsize=(7, 7))\n",
    "\n",
    "plt.scatter(A[:, 0], y)\n",
    "ax.set_xlim(-25, 25)\n",
    "ax.set_ylim(-25, 25)\n",
    "ax.axvline(0, color='black')\n",
    "ax.axhline(0, color='black')\n",
    "ax.grid(True)\n",
    "\n",
    "# линия которая обучилась\n",
    "# нужно вместо троеточий подсчитать значения y которые \n",
    "# получаются при полученных параметрах линии\n",
    "# в точках x1 = -25, x2 = 25, этим мы построим линию по 2 точкам\n",
    "x_line = np.array([-25, 25])\n",
    "y_line = a_b_analytical[0] * x_line + a_b_analytical[1] \n",
    "ax.plot(x_line, y_line)"
   ]
  },
  {
   "cell_type": "markdown",
   "metadata": {},
   "source": [
    "## 2. Решение с помощью градиентного спуска\n",
    "\n",
    "С помощью найденных выше формул градиента, совершить шаги градиентного спуска для тех же данных.<br>\n",
    "Подобрать значение $\\alpha$, чтобы на графиках была видна сходимость за 10 шагов.<br> Начинаем с параметров 0, 0"
   ]
  },
  {
   "cell_type": "code",
   "execution_count": 6,
   "metadata": {},
   "outputs": [
    {
     "data": {
      "text/plain": [
       "array([  -6.52701417,  -23.28142588,  -37.9575605 ,  -55.50073563,\n",
       "        -68.64685717,  -86.53472134, -100.59487292, -116.32022767,\n",
       "       -132.60698188, -144.52818061, -163.59782292, -178.12754301,\n",
       "       -193.10404388, -211.0151688 , -224.05764363, -241.12214979,\n",
       "       -255.58748452, -273.11386915, -288.82953021, -302.19020355,\n",
       "       -318.4981277 , -334.46115382, -349.55923889, -365.27266733,\n",
       "       -382.55436024])"
      ]
     },
     "execution_count": 6,
     "metadata": {},
     "output_type": "execute_result"
    }
   ],
   "source": [
    "y"
   ]
  },
  {
   "cell_type": "code",
   "execution_count": 7,
   "metadata": {},
   "outputs": [
    {
     "name": "stdout",
     "output_type": "stream",
     "text": [
      "[ 0.3551133  -5.79236218]\n"
     ]
    },
    {
     "data": {
      "image/png": "[encoded data removed]",
      "text/plain": [
       "<Figure size 700x700 with 1 Axes>"
      ]
     },
     "metadata": {},
     "output_type": "display_data"
    }
   ],
   "source": [
    "alpha = 0.0002\n",
    "\n",
    "a_b_analytical = np.array([0.0, 0.0])\n",
    "\n",
    "for i in range(1000):\n",
    "    # получаем градиент\n",
    "    grad = 2 * A.T @ (A @ a_b_analytical - y)\n",
    "    # получаем антиградиент\n",
    "    antigrad = -grad\n",
    "    # обновляем наши параметры линии\n",
    "    a_b_analytical += alpha * antigrad\n",
    "    \n",
    "# рисуем результат текущего шага\n",
    "print(antigrad)\n",
    "#  - изначальные данные\n",
    "f, ax = plt.subplots(figsize=(7, 7))\n",
    "\n",
    "plt.scatter(A[:, 0], y)\n",
    "ax.set_xlim(-25, 25)\n",
    "ax.set_ylim(-25, 25)\n",
    "ax.axvline(0, color='black')\n",
    "ax.axhline(0, color='black')\n",
    "ax.grid(True)\n",
    "x_line = np.array([-25, 25])\n",
    "y_line = a_b_analytical[0] * x_line + a_b_analytical[1]\n",
    "\n",
    "# Рисуем линию\n",
    "plt.plot(x_line, y_line, 'r-', linewidth=2, \n",
    "            label=f'y = {a_b_analytical[0]:.3f}x + {a_b_analytical[1]:.3f}')\n",
    "# - линия которая обучилась\n",
    "ax.set_title(f'Линия по данным после шага {i+1}')\n",
    "plt.show()"
   ]
  }
 ],
 "metadata": {
  "kernelspec": {
   "display_name": "mykerenv",
   "language": "python",
   "name": "python3"
  },
  "language_info": {
   "codemirror_mode": {
    "name": "ipython",
    "version": 3
   },
   "file_extension": ".py",
   "mimetype": "text/x-python",
   "name": "python",
   "nbconvert_exporter": "python",
   "pygments_lexer": "ipython3",
   "version": "3.10.16"
  }
 },
 "nbformat": 4,
 "nbformat_minor": 2
}
